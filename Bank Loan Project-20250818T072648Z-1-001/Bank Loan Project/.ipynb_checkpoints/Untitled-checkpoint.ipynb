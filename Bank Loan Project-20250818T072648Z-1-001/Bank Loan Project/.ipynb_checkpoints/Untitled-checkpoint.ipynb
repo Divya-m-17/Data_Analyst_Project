{
 "cells": [
  {
   "cell_type": "code",
   "execution_count": 1,
   "id": "0067c62a",
   "metadata": {},
   "outputs": [],
   "source": [
    "import pandas as pd\n",
    "import mysql.connector\n",
    "from sqlalchemy import create_engine"
   ]
  },
  {
   "cell_type": "code",
   "execution_count": 2,
   "id": "b3751af6",
   "metadata": {},
   "outputs": [
    {
     "name": "stdout",
     "output_type": "stream",
     "text": [
      "Loaded 38576 rows from CSV\n"
     ]
    }
   ],
   "source": [
    "bank_loan = \"financial_loan.csv\"   # change this to your CSV filename\n",
    "df = pd.read_csv(bank_loan)\n",
    "print(f\"Loaded {len(df)} rows from CSV\")"
   ]
  },
  {
   "cell_type": "code",
   "execution_count": 5,
   "id": "2899ed69",
   "metadata": {},
   "outputs": [],
   "source": [
    "user = \"root\"         \n",
    "password = \"root\" # your MySQL password\n",
    "host = \"localhost\"    # or IP address\n",
    "database = \"bank_loan_db\"  # your database name\n",
    "\n",
    "engine = create_engine(f\"mysql+mysqlconnector://{user}:{password}@{host}/{database}\")\n"
   ]
  },
  {
   "cell_type": "code",
   "execution_count": null,
   "id": "1f29e42c",
   "metadata": {},
   "outputs": [],
   "source": [
    "table_name = \"bankloan\"   # your table name\n",
    "\n",
    "# If table already exists, replace it; or use 'append' to add data\n",
    "df.to_sql(table_name, con=engine, if_exists=\"replace\", index=False)\n",
    "\n",
    "print(\"✅ CSV data successfully imported into MySQL!\")"
   ]
  },
  {
   "cell_type": "code",
   "execution_count": 8,
   "id": "4db28bd5",
   "metadata": {},
   "outputs": [
    {
     "ename": "SyntaxError",
     "evalue": "invalid syntax (3586250468.py, line 1)",
     "output_type": "error",
     "traceback": [
      "\u001b[1;36m  Cell \u001b[1;32mIn[8], line 1\u001b[1;36m\u001b[0m\n\u001b[1;33m    select count(id) from bank_loan;\u001b[0m\n\u001b[1;37m           ^\u001b[0m\n\u001b[1;31mSyntaxError\u001b[0m\u001b[1;31m:\u001b[0m invalid syntax\n"
     ]
    }
   ],
   "source": [
    "&&select count(id) from bank_loan;"
   ]
  },
  {
   "cell_type": "code",
   "execution_count": 12,
   "id": "5f288789",
   "metadata": {},
   "outputs": [
    {
     "name": "stderr",
     "output_type": "stream",
     "text": [
      "UsageError: Cell magic `%%sql` not found.\n"
     ]
    }
   ],
   "source": [
    "%%sql\n",
    "SELECT COUNT(*) as total_rows FROM bank_loan;"
   ]
  },
  {
   "cell_type": "code",
   "execution_count": 11,
   "id": "bb4c38f6",
   "metadata": {},
   "outputs": [
    {
     "name": "stderr",
     "output_type": "stream",
     "text": [
      "UsageError: Cell magic `%%sql` not found.\n"
     ]
    }
   ],
   "source": [
    "%%sql\n",
    "SELECT * FROM bank_loan LIMIT 5;"
   ]
  },
  {
   "cell_type": "code",
   "execution_count": null,
   "id": "2a43e586",
   "metadata": {},
   "outputs": [],
   "source": [
    "%%"
   ]
  }
 ],
 "metadata": {
  "kernelspec": {
   "display_name": "Python 3 (ipykernel)",
   "language": "python",
   "name": "python3"
  },
  "language_info": {
   "codemirror_mode": {
    "name": "ipython",
    "version": 3
   },
   "file_extension": ".py",
   "mimetype": "text/x-python",
   "name": "python",
   "nbconvert_exporter": "python",
   "pygments_lexer": "ipython3",
   "version": "3.11.5"
  }
 },
 "nbformat": 4,
 "nbformat_minor": 5
}
